{
 "cells": [
  {
   "cell_type": "code",
   "id": "initial_id",
   "metadata": {
    "collapsed": true,
    "ExecuteTime": {
     "end_time": "2025-04-20T16:54:08.609585Z",
     "start_time": "2025-04-20T16:54:08.606761Z"
    }
   },
   "source": [
    "import re\n",
    "from IPython.display import display, Markdown"
   ],
   "outputs": [],
   "execution_count": 1
  },
  {
   "metadata": {},
   "cell_type": "markdown",
   "source": "### Чтение файла с текстом",
   "id": "290e1366fe892154"
  },
  {
   "metadata": {
    "ExecuteTime": {
     "end_time": "2025-04-20T16:54:08.614656Z",
     "start_time": "2025-04-20T16:54:08.612341Z"
    }
   },
   "cell_type": "code",
   "source": [
    "def read_file(path: str):\n",
    "    with open(path, 'r', encoding='utf-8') as file:\n",
    "        return file.read()"
   ],
   "id": "b6c1d11f716b73f",
   "outputs": [],
   "execution_count": 2
  },
  {
   "metadata": {},
   "cell_type": "markdown",
   "source": "### Форматирование массива строк в одну строку",
   "id": "11062883a0acc269"
  },
  {
   "metadata": {
    "ExecuteTime": {
     "end_time": "2025-04-20T16:54:08.625637Z",
     "start_time": "2025-04-20T16:54:08.622428Z"
    }
   },
   "cell_type": "code",
   "source": [
    "def find_fio(names: list):\n",
    "    stroke = ''\n",
    "    for i in range(len(names) - 1):\n",
    "        stroke += f'{names[i]}, '\n",
    "    stroke += f'{names[-1]}'\n",
    "    return stroke"
   ],
   "id": "ba330d89e1cf585c",
   "outputs": [],
   "execution_count": 3
  },
  {
   "metadata": {},
   "cell_type": "markdown",
   "source": "### Генерация результата в Markdown",
   "id": "c4bc39ef70fc018c"
  },
  {
   "metadata": {
    "ExecuteTime": {
     "end_time": "2025-04-20T16:54:08.629818Z",
     "start_time": "2025-04-20T16:54:08.626828Z"
    }
   },
   "cell_type": "code",
   "source": [
    "def generate_report(names: list):\n",
    "    display(Markdown(f\"\"\"\n",
    "__Найденные ФИО:__ _{find_fio(names)}_\n",
    "\"\"\"))"
   ],
   "id": "bd371ed3b637dc64",
   "outputs": [],
   "execution_count": 4
  },
  {
   "metadata": {},
   "cell_type": "markdown",
   "source": [
    "### Шаблон для регулярного выражения по выделению ФИО с сокращением\n",
    "#### Примеры сокращений:\n",
    "* Фамилия И.О.\n",
    "* Фамилия И.\n",
    "* И.О. Фамилия\n",
    "* И. Фамилия"
   ],
   "id": "2a27418ef3de67ad"
  },
  {
   "metadata": {
    "ExecuteTime": {
     "end_time": "2025-04-20T16:54:08.634543Z",
     "start_time": "2025-04-20T16:54:08.630897Z"
    }
   },
   "cell_type": "code",
   "source": [
    "fio_pattern = r\"\"\"\n",
    "    \\b\n",
    "    (?:\n",
    "        (?:[А-ЯЁ][а-яё]+\\s[А-ЯЁ]\\.[А-ЯЁ]?\\.?)\n",
    "        |\n",
    "        (?:[А-ЯЁ]\\.[А-ЯЁ]?\\.?\\s[А-ЯЁ][а-яё]+)\n",
    "        |\n",
    "        (?:[A-Z][a-z]+\\s[A-Z]\\.[A-Z]?\\.?)\n",
    "        |\n",
    "        (?:[A-Z]\\.[A-Z]?\\.?\\s[A-Z][a-z]+)\n",
    "    )\n",
    "    \\b\n",
    "\"\"\""
   ],
   "id": "24c0005904b70bf1",
   "outputs": [],
   "execution_count": 5
  },
  {
   "metadata": {},
   "cell_type": "markdown",
   "source": "# Выполнение работы",
   "id": "74e944cffc60bf1c"
  },
  {
   "metadata": {
    "ExecuteTime": {
     "end_time": "2025-04-20T16:54:08.639952Z",
     "start_time": "2025-04-20T16:54:08.635428Z"
    }
   },
   "cell_type": "code",
   "source": [
    "text = read_file('./example_text.txt')\n",
    "results_of_searching = re.findall(fio_pattern, text, re.VERBOSE)"
   ],
   "id": "12897cea91ea3185",
   "outputs": [],
   "execution_count": 6
  },
  {
   "metadata": {},
   "cell_type": "markdown",
   "source": "### Результат работы",
   "id": "b47d82ca99c26282"
  },
  {
   "metadata": {
    "ExecuteTime": {
     "end_time": "2025-04-20T16:54:08.646187Z",
     "start_time": "2025-04-20T16:54:08.641010Z"
    }
   },
   "cell_type": "code",
   "source": "generate_report(results_of_searching)",
   "id": "29f2ee26a238584e",
   "outputs": [
    {
     "data": {
      "text/plain": [
       "<IPython.core.display.Markdown object>"
      ],
      "text/markdown": "\n__Найденные ФИО:__ _Иванов А.Б, Р. Сидоров, А. Кузнецов, Smith J.R, A.B. Watson, C. Davis, К.И. Николаева, Lee H.K, М.П. Соколов, F.G. Miller_\n"
     },
     "metadata": {},
     "output_type": "display_data"
    }
   ],
   "execution_count": 7
  }
 ],
 "metadata": {
  "kernelspec": {
   "display_name": "Python 3",
   "language": "python",
   "name": "python3"
  },
  "language_info": {
   "codemirror_mode": {
    "name": "ipython",
    "version": 2
   },
   "file_extension": ".py",
   "mimetype": "text/x-python",
   "name": "python",
   "nbconvert_exporter": "python",
   "pygments_lexer": "ipython2",
   "version": "2.7.6"
  }
 },
 "nbformat": 4,
 "nbformat_minor": 5
}
