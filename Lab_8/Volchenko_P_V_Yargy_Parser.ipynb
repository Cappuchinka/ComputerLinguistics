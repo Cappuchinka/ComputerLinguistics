{
 "cells": [
  {
   "cell_type": "code",
   "id": "initial_id",
   "metadata": {
    "collapsed": true,
    "ExecuteTime": {
     "end_time": "2025-06-02T16:54:27.178574Z",
     "start_time": "2025-06-02T16:54:26.999396Z"
    }
   },
   "source": [
    "\"\"\" Imports \"\"\"\n",
    "from natasha import (\n",
    "    Segmenter,\n",
    "    MorphVocab,\n",
    "    Doc,\n",
    "    NewsEmbedding,\n",
    "    NewsMorphTagger,\n",
    "    NewsSyntaxParser,\n",
    "    NewsNERTagger\n",
    ")\n",
    "from yargy import rule, Parser, or_\n",
    "from yargy.predicates import gram, dictionary\n",
    "from yargy.interpretation import fact\n",
    "import json\n",
    "from IPython.display import display, Markdown"
   ],
   "outputs": [],
   "execution_count": 1
  },
  {
   "metadata": {},
   "cell_type": "markdown",
   "source": "### Инициализация сущностей Natasha",
   "id": "7f0c7babc0293c26"
  },
  {
   "metadata": {
    "ExecuteTime": {
     "end_time": "2025-06-02T16:54:27.845129Z",
     "start_time": "2025-06-02T16:54:27.179640Z"
    }
   },
   "cell_type": "code",
   "source": [
    "segmenter = Segmenter()\n",
    "morph_vocab = MorphVocab()\n",
    "emb = NewsEmbedding()\n",
    "morph_tagger = NewsMorphTagger(emb)\n",
    "syntax_parser = NewsSyntaxParser(emb)\n",
    "ner_tagger = NewsNERTagger(emb)"
   ],
   "id": "4e8b01c2b98c7870",
   "outputs": [],
   "execution_count": 2
  },
  {
   "metadata": {},
   "cell_type": "markdown",
   "source": "### Обработка текста",
   "id": "313614876cebcfe1"
  },
  {
   "metadata": {
    "ExecuteTime": {
     "end_time": "2025-06-02T16:54:27.848324Z",
     "start_time": "2025-06-02T16:54:27.846013Z"
    }
   },
   "cell_type": "code",
   "source": [
    "def text_processing(param_text):\n",
    "    doc = Doc(param_text)\n",
    "    doc.segment(segmenter)\n",
    "    doc.tag_morph(morph_tagger)\n",
    "    doc.parse_syntax(syntax_parser)\n",
    "    doc.tag_ner(ner_tagger)\n",
    "    \n",
    "    return doc"
   ],
   "id": "9569a72f7636e8c3",
   "outputs": [],
   "execution_count": 3
  },
  {
   "metadata": {},
   "cell_type": "markdown",
   "source": "### Открытие файла с текстом",
   "id": "cffdbc5d376a6f63"
  },
  {
   "metadata": {
    "ExecuteTime": {
     "end_time": "2025-06-02T16:54:27.857741Z",
     "start_time": "2025-06-02T16:54:27.849125Z"
    }
   },
   "cell_type": "code",
   "source": [
    "def read_file(path: str):\n",
    "    with open(path, 'r', encoding='utf-8') as file:\n",
    "        return file.read()"
   ],
   "id": "ae10db5cedbca896",
   "outputs": [],
   "execution_count": 4
  },
  {
   "metadata": {},
   "cell_type": "markdown",
   "source": "### Открытие файла со словарём",
   "id": "a118c34e4cdc1c53"
  },
  {
   "metadata": {
    "ExecuteTime": {
     "end_time": "2025-06-02T16:54:27.862340Z",
     "start_time": "2025-06-02T16:54:27.859417Z"
    }
   },
   "cell_type": "code",
   "source": [
    "with open('geo_terms.json', encoding='utf-8') as f:\n",
    "    geo_terms = json.load(f)"
   ],
   "id": "500d96e0183254f9",
   "outputs": [],
   "execution_count": 5
  },
  {
   "metadata": {},
   "cell_type": "markdown",
   "source": "### Географические сущности",
   "id": "c6f3791143f40809"
  },
  {
   "metadata": {
    "ExecuteTime": {
     "end_time": "2025-06-02T16:54:28.002388Z",
     "start_time": "2025-06-02T16:54:27.863242Z"
    }
   },
   "cell_type": "code",
   "source": [
    "GeoMention = fact('GeoMention', ['location'])\n",
    "ADJ = gram('ADJF')\n",
    "NOUN = gram('NOUN')\n",
    "GEO_TYPES_COUNTRY = dictionary(geo_terms['country'])\n",
    "GEO_TYPES_REGION = dictionary(geo_terms[\"region\"] + geo_terms[\"region_type\"])\n",
    "GEO_TYPES_OBJECT = dictionary(geo_terms[\"region\"] + geo_terms[\"region_type\"] + geo_terms[\"object\"])\n",
    "\n",
    "geo_rule = rule(\n",
    "    ADJ.optional().repeatable().interpretation(GeoMention.location),\n",
    "    or_(GEO_TYPES_COUNTRY, GEO_TYPES_REGION, GEO_TYPES_OBJECT)\n",
    ").interpretation(GeoMention)\n",
    "geo_parser = Parser(geo_rule)"
   ],
   "id": "6b989ef09484236d",
   "outputs": [],
   "execution_count": 6
  },
  {
   "metadata": {},
   "cell_type": "markdown",
   "source": "### Инициализация парсера",
   "id": "b3a2b0bd8fdde9de"
  },
  {
   "metadata": {
    "ExecuteTime": {
     "end_time": "2025-06-02T16:54:28.011636Z",
     "start_time": "2025-06-02T16:54:28.003445Z"
    }
   },
   "cell_type": "code",
   "source": [
    "def parsing(param_doc):\n",
    "    for sent in param_doc.sents:\n",
    "        sentence_text = sent.text\n",
    "\n",
    "        # Геосущности из Natasha (LOC)\n",
    "        natasha_locations = []\n",
    "        for span in sent.spans:\n",
    "            if span.type == 'LOC':\n",
    "                natasha_locations.append(span.text)\n",
    "\n",
    "        # 1. Гео-сущности через Yargy\n",
    "        geo_mentions = []\n",
    "        for match in geo_parser.findall(sentence_text):\n",
    "            geo_text = sentence_text[match.span.start:match.span.stop]\n",
    "            if any(term.lower() in geo_text.lower() for term in\n",
    "                   geo_terms[\"country\"]\n",
    "                   or geo_terms[\"region_type\"]\n",
    "                   or geo_terms[\"region\"] + geo_terms[\"region_type\"]\n",
    "                   or geo_terms[\"region\"] + geo_terms[\"region_type\"] + geo_terms[\"object\"]):\n",
    "                geo_mentions.append(geo_text.strip())\n",
    "\n",
    "        # Natasha NER\n",
    "        for span in sent.spans:\n",
    "            if span.type == 'LOC':\n",
    "                geo_mentions.append(span.text.strip())\n",
    "\n",
    "        # 2. Поиск действия (глагол + [опционально ADJF/PRTF] + NOUN, справа или слева)\n",
    "        actions = []\n",
    "        for i, token in enumerate(sent.tokens):\n",
    "            if 'VERB' in token.pos or 'PRTS' in token.pos:\n",
    "                verb = token.text\n",
    "\n",
    "                # === ПОИСК СУЩЕСТВИТЕЛЬНОГО ===\n",
    "\n",
    "                # Сначала ищем NOUN справа\n",
    "                noun_idx = next((j for j, t in enumerate(sent.tokens[i + 1:], start=i + 1) if 'NOUN' in t.pos), None)\n",
    "\n",
    "                # Если не нашли — ищем NOUN слева\n",
    "                if noun_idx is None:\n",
    "                    noun_idx = next((j for j, t in enumerate(reversed(sent.tokens[:i])) if 'NOUN' in t.pos), None)\n",
    "                    if noun_idx is not None:\n",
    "                        noun_idx = i - noun_idx - 1  # пересчёт индекса в нормальный\n",
    "\n",
    "                # Если нашли существительное\n",
    "                if noun_idx is not None:\n",
    "                    noun_token = sent.tokens[noun_idx]\n",
    "                    phrase_tokens = [noun_token.text]\n",
    "\n",
    "                    # === ПРИСОЕДИНЯЕМ ПРИЛАГАТЕЛЬНЫЕ/ПРИЧАСТИЯ ===\n",
    "                    # Сперва смотрим слева от существительного (в том же порядке, как в предложении)\n",
    "                    for j in range(noun_idx - 1, -1, -1):\n",
    "                        t = sent.tokens[j]\n",
    "                        if 'ADJF' in t.pos or 'PRTF' in t.pos or 'PRTS' in t.pos:\n",
    "                            phrase_tokens.insert(0, t.text)\n",
    "                        else:\n",
    "                            break  # как только не согласующееся — выходим\n",
    "\n",
    "                    action_phrase = f\"{verb} {' '.join(phrase_tokens)}\"\n",
    "                    actions.append(action_phrase)\n",
    "\n",
    "        # 3. Привязка\n",
    "        unique_pairs = set()\n",
    "        for geo in geo_mentions:\n",
    "            action_text = actions[0] if actions else '(действие не найдено)'\n",
    "            pair = f\"{geo} — {action_text}\"\n",
    "            if pair not in unique_pairs:\n",
    "                unique_pairs.add(pair)\n",
    "                display(Markdown(pair))"
   ],
   "id": "9f5aafb280694fc8",
   "outputs": [],
   "execution_count": 7
  },
  {
   "metadata": {},
   "cell_type": "markdown",
   "source": "### Прогон парсера",
   "id": "8858c4700f95536"
  },
  {
   "metadata": {
    "ExecuteTime": {
     "end_time": "2025-06-02T16:54:28.021299Z",
     "start_time": "2025-06-02T16:54:28.012356Z"
    }
   },
   "cell_type": "code",
   "source": [
    "def start_parsing():\n",
    "    \n",
    "    for i in range(1, 6):\n",
    "        text = read_file(f\"resources/example_text_{i}.txt\")\n",
    "        display(Markdown(f\"\"\" #### Текст №{i} \"\"\"))\n",
    "        parsing(text_processing(text))"
   ],
   "id": "6b27977470600428",
   "outputs": [],
   "execution_count": 8
  },
  {
   "metadata": {},
   "cell_type": "markdown",
   "source": "# Результаты",
   "id": "7aa68c483bc0f796"
  },
  {
   "metadata": {
    "ExecuteTime": {
     "end_time": "2025-06-02T16:54:28.819037Z",
     "start_time": "2025-06-02T16:54:28.023012Z"
    }
   },
   "cell_type": "code",
   "source": "start_parsing()",
   "id": "ab1006a9586a6dc0",
   "outputs": [
    {
     "data": {
      "text/plain": [
       "<IPython.core.display.Markdown object>"
      ],
      "text/markdown": " #### Текст №1 "
     },
     "metadata": {},
     "output_type": "display_data"
    },
    {
     "data": {
      "text/plain": [
       "<IPython.core.display.Markdown object>"
      ],
      "text/markdown": "Ставропольском крае — открыт терминал"
     },
     "metadata": {},
     "output_type": "display_data"
    },
    {
     "data": {
      "text/plain": [
       "<IPython.core.display.Markdown object>"
      ],
      "text/markdown": "Минеральные Воды — открыт терминал"
     },
     "metadata": {},
     "output_type": "display_data"
    },
    {
     "data": {
      "text/plain": [
       "<IPython.core.display.Markdown object>"
      ],
      "text/markdown": "Курганской области — открыт завод"
     },
     "metadata": {},
     "output_type": "display_data"
    },
    {
     "data": {
      "text/plain": [
       "<IPython.core.display.Markdown object>"
      ],
      "text/markdown": "Лебедянском районе — открыт завод"
     },
     "metadata": {},
     "output_type": "display_data"
    },
    {
     "data": {
      "text/plain": [
       "<IPython.core.display.Markdown object>"
      ],
      "text/markdown": "Липецкой области — открыт завод"
     },
     "metadata": {},
     "output_type": "display_data"
    },
    {
     "data": {
      "text/plain": [
       "<IPython.core.display.Markdown object>"
      ],
      "text/markdown": " #### Текст №2 "
     },
     "metadata": {},
     "output_type": "display_data"
    },
    {
     "data": {
      "text/plain": [
       "<IPython.core.display.Markdown object>"
      ],
      "text/markdown": "Сьерра-Леоне — завершили этап"
     },
     "metadata": {},
     "output_type": "display_data"
    },
    {
     "data": {
      "text/plain": [
       "<IPython.core.display.Markdown object>"
      ],
      "text/markdown": "Сьерра-Леоне — приступили этапу"
     },
     "metadata": {},
     "output_type": "display_data"
    },
    {
     "data": {
      "text/plain": [
       "<IPython.core.display.Markdown object>"
      ],
      "text/markdown": "Сьерра-Леоне — согласована учеными"
     },
     "metadata": {},
     "output_type": "display_data"
    },
    {
     "data": {
      "text/plain": [
       "<IPython.core.display.Markdown object>"
      ],
      "text/markdown": " #### Текст №3 "
     },
     "metadata": {},
     "output_type": "display_data"
    },
    {
     "data": {
      "text/plain": [
       "<IPython.core.display.Markdown object>"
      ],
      "text/markdown": "Северного Кавказа — осмотрел экспозицию"
     },
     "metadata": {},
     "output_type": "display_data"
    },
    {
     "data": {
      "text/plain": [
       "<IPython.core.display.Markdown object>"
      ],
      "text/markdown": "Абхазии — (действие не найдено)"
     },
     "metadata": {},
     "output_type": "display_data"
    },
    {
     "data": {
      "text/plain": [
       "<IPython.core.display.Markdown object>"
      ],
      "text/markdown": "Российской Федерации — (действие не найдено)"
     },
     "metadata": {},
     "output_type": "display_data"
    },
    {
     "data": {
      "text/plain": [
       "<IPython.core.display.Markdown object>"
      ],
      "text/markdown": "Северо-Кавказском федеральном округе — (действие не найдено)"
     },
     "metadata": {},
     "output_type": "display_data"
    },
    {
     "data": {
      "text/plain": [
       "<IPython.core.display.Markdown object>"
      ],
      "text/markdown": "Северо-Кавказского федерального округа — (действие не найдено)"
     },
     "metadata": {},
     "output_type": "display_data"
    },
    {
     "data": {
      "text/plain": [
       "<IPython.core.display.Markdown object>"
      ],
      "text/markdown": "Минеральных Водах — прошло мае"
     },
     "metadata": {},
     "output_type": "display_data"
    },
    {
     "data": {
      "text/plain": [
       "<IPython.core.display.Markdown object>"
      ],
      "text/markdown": "России — получила статус"
     },
     "metadata": {},
     "output_type": "display_data"
    },
    {
     "data": {
      "text/plain": [
       "<IPython.core.display.Markdown object>"
      ],
      "text/markdown": "Грозном — прошёл июле"
     },
     "metadata": {},
     "output_type": "display_data"
    },
    {
     "data": {
      "text/plain": [
       "<IPython.core.display.Markdown object>"
      ],
      "text/markdown": "Минеральные Воды — проходит мая"
     },
     "metadata": {},
     "output_type": "display_data"
    },
    {
     "data": {
      "text/plain": [
       "<IPython.core.display.Markdown object>"
      ],
      "text/markdown": "Российской Федерации — состоится церемония"
     },
     "metadata": {},
     "output_type": "display_data"
    },
    {
     "data": {
      "text/plain": [
       "<IPython.core.display.Markdown object>"
      ],
      "text/markdown": "Северного Кавказа — отразит многообразие"
     },
     "metadata": {},
     "output_type": "display_data"
    },
    {
     "data": {
      "text/plain": [
       "<IPython.core.display.Markdown object>"
      ],
      "text/markdown": "СКФО — продемонстрированы достижения"
     },
     "metadata": {},
     "output_type": "display_data"
    },
    {
     "data": {
      "text/plain": [
       "<IPython.core.display.Markdown object>"
      ],
      "text/markdown": " #### Текст №4 "
     },
     "metadata": {},
     "output_type": "display_data"
    },
    {
     "data": {
      "text/plain": [
       "<IPython.core.display.Markdown object>"
      ],
      "text/markdown": "Эквадора — обнаружили таможенники"
     },
     "metadata": {},
     "output_type": "display_data"
    },
    {
     "data": {
      "text/plain": [
       "<IPython.core.display.Markdown object>"
      ],
      "text/markdown": "России — обнаружили таможенники"
     },
     "metadata": {},
     "output_type": "display_data"
    },
    {
     "data": {
      "text/plain": [
       "<IPython.core.display.Markdown object>"
      ],
      "text/markdown": "Колумбии — установили получателя"
     },
     "metadata": {},
     "output_type": "display_data"
    },
    {
     "data": {
      "text/plain": [
       "<IPython.core.display.Markdown object>"
      ],
      "text/markdown": "Московской области — Действуя указанию"
     },
     "metadata": {},
     "output_type": "display_data"
    },
    {
     "data": {
      "text/plain": [
       "<IPython.core.display.Markdown object>"
      ],
      "text/markdown": "РФ — Возбуждено дело"
     },
     "metadata": {},
     "output_type": "display_data"
    },
    {
     "data": {
      "text/plain": [
       "<IPython.core.display.Markdown object>"
      ],
      "text/markdown": "России — проводились Мероприятия"
     },
     "metadata": {},
     "output_type": "display_data"
    },
    {
     "data": {
      "text/plain": [
       "<IPython.core.display.Markdown object>"
      ],
      "text/markdown": " #### Текст №5 "
     },
     "metadata": {},
     "output_type": "display_data"
    },
    {
     "data": {
      "text/plain": [
       "<IPython.core.display.Markdown object>"
      ],
      "text/markdown": "Приволжский — выявленных участков"
     },
     "metadata": {},
     "output_type": "display_data"
    },
    {
     "data": {
      "text/plain": [
       "<IPython.core.display.Markdown object>"
      ],
      "text/markdown": "Центральный федеральные округа — выявленных участков"
     },
     "metadata": {},
     "output_type": "display_data"
    },
    {
     "data": {
      "text/plain": [
       "<IPython.core.display.Markdown object>"
      ],
      "text/markdown": "Северо-Кавказский федеральный округ — составил округ"
     },
     "metadata": {},
     "output_type": "display_data"
    },
    {
     "data": {
      "text/plain": [
       "<IPython.core.display.Markdown object>"
      ],
      "text/markdown": "Сибирский федеральный округ — выявленных территорий"
     },
     "metadata": {},
     "output_type": "display_data"
    },
    {
     "data": {
      "text/plain": [
       "<IPython.core.display.Markdown object>"
      ],
      "text/markdown": "Краснодарского края — (действие не найдено)"
     },
     "metadata": {},
     "output_type": "display_data"
    },
    {
     "data": {
      "text/plain": [
       "<IPython.core.display.Markdown object>"
      ],
      "text/markdown": "Московской — (действие не найдено)"
     },
     "metadata": {},
     "output_type": "display_data"
    },
    {
     "data": {
      "text/plain": [
       "<IPython.core.display.Markdown object>"
      ],
      "text/markdown": "Свердловской областей — (действие не найдено)"
     },
     "metadata": {},
     "output_type": "display_data"
    },
    {
     "data": {
      "text/plain": [
       "<IPython.core.display.Markdown object>"
      ],
      "text/markdown": "Московская — лидируют тыс"
     },
     "metadata": {},
     "output_type": "display_data"
    },
    {
     "data": {
      "text/plain": [
       "<IPython.core.display.Markdown object>"
      ],
      "text/markdown": "Нижегородская — лидируют тыс"
     },
     "metadata": {},
     "output_type": "display_data"
    },
    {
     "data": {
      "text/plain": [
       "<IPython.core.display.Markdown object>"
      ],
      "text/markdown": "Краснодарский край — лидируют тыс"
     },
     "metadata": {},
     "output_type": "display_data"
    },
    {
     "data": {
      "text/plain": [
       "<IPython.core.display.Markdown object>"
      ],
      "text/markdown": "Ростовская область — лидируют тыс"
     },
     "metadata": {},
     "output_type": "display_data"
    },
    {
     "data": {
      "text/plain": [
       "<IPython.core.display.Markdown object>"
      ],
      "text/markdown": "Свердловской области — выявленных рамках"
     },
     "metadata": {},
     "output_type": "display_data"
    },
    {
     "data": {
      "text/plain": [
       "<IPython.core.display.Markdown object>"
      ],
      "text/markdown": "того — возведён дом"
     },
     "metadata": {},
     "output_type": "display_data"
    },
    {
     "data": {
      "text/plain": [
       "<IPython.core.display.Markdown object>"
      ],
      "text/markdown": "Камышлове — возведён дом"
     },
     "metadata": {},
     "output_type": "display_data"
    },
    {
     "data": {
      "text/plain": [
       "<IPython.core.display.Markdown object>"
      ],
      "text/markdown": "Новосибирской области — вовлечено участков"
     },
     "metadata": {},
     "output_type": "display_data"
    },
    {
     "data": {
      "text/plain": [
       "<IPython.core.display.Markdown object>"
      ],
      "text/markdown": "Клюквенный — реализуемых участках"
     },
     "metadata": {},
     "output_type": "display_data"
    },
    {
     "data": {
      "text/plain": [
       "<IPython.core.display.Markdown object>"
      ],
      "text/markdown": "Новосибирска — реализуемых участках"
     },
     "metadata": {},
     "output_type": "display_data"
    },
    {
     "data": {
      "text/plain": [
       "<IPython.core.display.Markdown object>"
      ],
      "text/markdown": "Ставропольском крае — реализуется проект"
     },
     "metadata": {},
     "output_type": "display_data"
    },
    {
     "data": {
      "text/plain": [
       "<IPython.core.display.Markdown object>"
      ],
      "text/markdown": "Пятигорске — реализуется проект"
     },
     "metadata": {},
     "output_type": "display_data"
    },
    {
     "data": {
      "text/plain": [
       "<IPython.core.display.Markdown object>"
      ],
      "text/markdown": "Западном — реализуется проект"
     },
     "metadata": {},
     "output_type": "display_data"
    },
    {
     "data": {
      "text/plain": [
       "<IPython.core.display.Markdown object>"
      ],
      "text/markdown": "Кисловодске — ведётся строительство"
     },
     "metadata": {},
     "output_type": "display_data"
    },
    {
     "data": {
      "text/plain": [
       "<IPython.core.display.Markdown object>"
      ],
      "text/markdown": "Самарской области — выявленных территориях"
     },
     "metadata": {},
     "output_type": "display_data"
    },
    {
     "data": {
      "text/plain": [
       "<IPython.core.display.Markdown object>"
      ],
      "text/markdown": "Чапаевске — выявленных территориях"
     },
     "metadata": {},
     "output_type": "display_data"
    }
   ],
   "execution_count": 9
  }
 ],
 "metadata": {
  "kernelspec": {
   "display_name": "Python 3",
   "language": "python",
   "name": "python3"
  },
  "language_info": {
   "codemirror_mode": {
    "name": "ipython",
    "version": 2
   },
   "file_extension": ".py",
   "mimetype": "text/x-python",
   "name": "python",
   "nbconvert_exporter": "python",
   "pygments_lexer": "ipython2",
   "version": "2.7.6"
  }
 },
 "nbformat": 4,
 "nbformat_minor": 5
}
